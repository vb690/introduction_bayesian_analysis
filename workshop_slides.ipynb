{
 "cells": [
  {
   "cell_type": "markdown",
   "metadata": {
    "slideshow": {
     "slide_type": "slide"
    }
   },
   "source": [
    "# Introductory Bayesian Data Analysis \n",
    "\n",
    "![title](results\\figures\\presentation\\1.png)\n",
    "\n",
    "**Valerio Bonometti                                                                                    \n",
    "PhD Candidate University of York**"
   ]
  },
  {
   "cell_type": "markdown",
   "metadata": {
    "slideshow": {
     "slide_type": "subslide"
    }
   },
   "source": [
    "## Agenda\n",
    "\n",
    "- Introduction\n",
    "\n",
    "- One\n",
    "    * From counts to probability\n",
    "    * Bayesian updating\n",
    "    * Priors, Likelyhood and Posterior \n",
    "  \n",
    "- Two\n",
    "    * Parameters Estimation\n",
    "    * Bivariate Linear Model\n",
    "\n",
    "- Three\n",
    "    * Generalized Linear Model\n",
    "    * Hierarchical Models\n",
    "    "
   ]
  },
  {
   "cell_type": "code",
   "execution_count": 30,
   "metadata": {
    "slideshow": {
     "slide_type": "notes"
    }
   },
   "outputs": [
    {
     "name": "stdout",
     "output_type": "stream",
     "text": [
      "The autoreload extension is already loaded. To reload it, use:\n",
      "  %reload_ext autoreload\n"
     ]
    }
   ],
   "source": [
    "%load_ext autoreload\n",
    "%autoreload 2\n",
    "\n",
    "import numpy as np\n",
    "from scipy.stats import binom, beta\n",
    "\n",
    "import seaborn as sns\n",
    "\n",
    "sns.set(style='white', font_scale=1.5)"
   ]
  },
  {
   "cell_type": "code",
   "execution_count": 31,
   "metadata": {
    "slideshow": {
     "slide_type": "slide"
    }
   },
   "outputs": [],
   "source": [
    "from modules.visuals import visualize_sp_update"
   ]
  }
 ],
 "metadata": {
  "celltoolbar": "Slideshow",
  "kernelspec": {
   "display_name": "Python 3",
   "language": "python",
   "name": "python3"
  },
  "language_info": {
   "codemirror_mode": {
    "name": "ipython",
    "version": 3
   },
   "file_extension": ".py",
   "mimetype": "text/x-python",
   "name": "python",
   "nbconvert_exporter": "python",
   "pygments_lexer": "ipython3",
   "version": "3.7.3"
  }
 },
 "nbformat": 4,
 "nbformat_minor": 2
}
